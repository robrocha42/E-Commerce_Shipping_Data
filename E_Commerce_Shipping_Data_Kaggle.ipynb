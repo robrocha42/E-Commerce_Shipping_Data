{
  "nbformat": 4,
  "nbformat_minor": 0,
  "metadata": {
    "colab": {
      "provenance": [],
      "authorship_tag": "ABX9TyNMWQ/6DH+vrQVks1BzmuBH",
      "include_colab_link": true
    },
    "kernelspec": {
      "name": "python3",
      "display_name": "Python 3"
    },
    "language_info": {
      "name": "python"
    }
  },
  "cells": [
    {
      "cell_type": "markdown",
      "metadata": {
        "id": "view-in-github",
        "colab_type": "text"
      },
      "source": [
        "<a href=\"https://colab.research.google.com/github/robrocha42/E-Commerce_Shipping_Data/blob/main/E_Commerce_Shipping_Data_Kaggle.ipynb\" target=\"_parent\"><img src=\"https://colab.research.google.com/assets/colab-badge.svg\" alt=\"Open In Colab\"/></a>"
      ]
    },
    {
      "cell_type": "markdown",
      "source": [
        "# E-Commerce Shipping Data - Kaggle - Orientado a objetos"
      ],
      "metadata": {
        "id": "omgIMJHSfJK9"
      }
    },
    {
      "cell_type": "code",
      "source": [
        "#Classe DataPrep\n",
        "#E-Commerce Shipping Data - Site Kaggle\n",
        "\n",
        "# tratamento de daos\n",
        "import pandas as pd\n",
        "# machine learning\n",
        "from sklearn.model_selection import train_test_split\n",
        "from sklearn.preprocessing import MinMaxScaler\n",
        "\n",
        "class DataPrep:\n",
        "  def __init__(self, data):\n",
        "    \"Instancia a classe com o conjunto de dados que precisa ser processado\" \n",
        "    self.data = data\n",
        "\n",
        "  #para ser utilizado sem instanciar o objeto\n",
        "  @staticmethod\n",
        "  def _one_hot_encoder(df: pd.DataFrame, variavel: str) -> pd.DataFrame:\n",
        "    \"Transforma uma variável categórica utilizando One Hot Encoding\" \n",
        "    dummies = pd.get_dummies (df [variavel], prefix=variavel)\n",
        "    df = pd.concat([df, dummies], axis=1)\n",
        "    df.drop(columns=variavel, inplace=True)\n",
        "    return df\n",
        "\n",
        "  def _tratar_variaveis_categoricas (self) -> None:\n",
        "    \"Usar One Hot Encoder para tratar as variáveis categóricas\" \n",
        "    self.data = DataPrep._one_hot_encoder( self.data, 'Warehouse_block')\n",
        "    self.data = DataPrep._one_hot_encoder( self.data, 'Mode_of_Shipment')\n",
        "    self.data = DataPrep._one_hot_encoder( self.data, 'Product_importance')\n",
        "    self.data = DataPrep._one_hot_encoder( self.data, 'Gender')\n",
        "\n",
        "  def _remover_variaveis (self) -> None:\n",
        "    \"Remove as variáveis que não serão utilizadas pelo modelo.\" \n",
        "    self.data.drop(columns='ID', inplace=True)\n",
        "\n",
        "  def _normalizar_dados(self) -> None:\n",
        "    variaveis = self.data.drop(columns='Reached.on.Time_Y.N')\n",
        "    var_cols = variaveis.columns\n",
        "    resposta = self.data['Reached.on.Time_Y.N']\n",
        "\n",
        "    scaler = MinMaxScaler()\n",
        "    variaveis = scaler.fit_transform(variaveis)\n",
        "    variaveis = pd.DataFrame(variaveis, columns=var_cols)\n",
        "\n",
        "    self.data = pd.concat([variaveis, resposta], axis=1)\n",
        "\n",
        "  def _separar_treino_teste (self):\n",
        "    \"Divide o dataset em conjunto de treino e teste\"\n",
        "    treino, teste = train_test_split(\n",
        "      self.data,\n",
        "      test_size=0.3,\n",
        "      random_state=2023)\n",
        "    return treino, teste\n",
        "\n",
        "  def preparar_dados (self):\n",
        "    \"Aplica todas as transformações de dados.\"\n",
        "    self._tratar_variaveis_categoricas()\n",
        "    self._remover_variaveis()\n",
        "    self._normalizar_dados()\n",
        "    treino, teste = self._separar_treino_teste() \n",
        "    return treino, teste"
      ],
      "metadata": {
        "id": "_ExJYM1cg1p9"
      },
      "execution_count": 13,
      "outputs": []
    },
    {
      "cell_type": "code",
      "execution_count": 14,
      "metadata": {
        "id": "Mo-87r4secCQ"
      },
      "outputs": [],
      "source": [
        "#Treinar um classificador para prever se uma determinada entrega chegará dentro do prazo\n",
        "#Clase para modelagem de dados\n",
        "\n",
        "#machine learning\n",
        "from sklearn.linear_model import LogisticRegression\n",
        "\n",
        "class Model:\n",
        "  def __init__(self, df_treino: pd.DataFrame, df_teste: pd.DataFrame) -> None:\n",
        "    self.df_treino = df_treino\n",
        "    self.df_teste = df_teste\n",
        "    #clf - classificador \n",
        "    self.clf = LogisticRegression()\n",
        "\n",
        "  def separar_variaveis(self):\n",
        "    self.X_treino = self.df_treino.drop(columns='Reached.on.Time_Y.N')\n",
        "    self.Y_treino = self.df_treino['Reached.on.Time_Y.N']\n",
        "\n",
        "    self.X_teste = self.df_teste.drop(columns='Reached.on.Time_Y.N')\n",
        "    self.Y_teste = self.df_teste['Reached.on.Time_Y.N']\n",
        "\n",
        "  #Métodos para treinar e avaliar o modelo e fazer previsões\n",
        "  def fit(self):\n",
        "    self.separar_variaveis()\n",
        "    self.clf.fit(self.X_treino, self.Y_treino)\n",
        "\n",
        "  def predict(self, X: pd.DataFrame):\n",
        "    predictions = self.clf.predict(X)\n",
        "    return predictions\n",
        "\n",
        "  def score(self):\n",
        "    return self.clf.score(self.X_teste, self.Y_teste)\n"
      ]
    },
    {
      "cell_type": "code",
      "source": [
        "df = pd.read_csv('/content/Train.csv') #Caminho do arquivo\n",
        "dp = DataPrep(df)\n",
        "\n",
        "# Toda a preparação de dados necessaria e retorna os DataFrames de treino e teste já separados\n",
        "df_treino, df_teste = dp.preparar_dados()\n",
        "\n",
        "modelo = Model(df_treino, df_teste)\n",
        "modelo.fit()\n",
        "#64,6% de acurácia\n",
        "modelo.score()"
      ],
      "metadata": {
        "colab": {
          "base_uri": "https://localhost:8080/"
        },
        "id": "DXh9-h5YgUyo",
        "outputId": "2773291c-7cc9-4a95-ac3d-1c9bd1db60b0"
      },
      "execution_count": 15,
      "outputs": [
        {
          "output_type": "execute_result",
          "data": {
            "text/plain": [
              "0.6460606060606061"
            ]
          },
          "metadata": {},
          "execution_count": 15
        }
      ]
    }
  ]
}